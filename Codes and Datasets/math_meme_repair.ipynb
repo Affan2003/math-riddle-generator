{
  "nbformat": 4,
  "nbformat_minor": 0,
  "metadata": {
    "colab": {
      "provenance": [],
      "gpuType": "T4"
    },
    "kernelspec": {
      "name": "python3",
      "display_name": "Python 3"
    },
    "language_info": {
      "name": "python"
    },
    "widgets": {
      "application/vnd.jupyter.widget-state+json": {
        "7f6a53b7f54b40e5a219918c24e1e954": {
          "model_module": "@jupyter-widgets/controls",
          "model_name": "HBoxModel",
          "model_module_version": "1.5.0",
          "state": {
            "_dom_classes": [],
            "_model_module": "@jupyter-widgets/controls",
            "_model_module_version": "1.5.0",
            "_model_name": "HBoxModel",
            "_view_count": null,
            "_view_module": "@jupyter-widgets/controls",
            "_view_module_version": "1.5.0",
            "_view_name": "HBoxView",
            "box_style": "",
            "children": [
              "IPY_MODEL_9a5bd756a6664a22b5dc2b3db4c46948",
              "IPY_MODEL_4a157e889cd54ba5938378875cc11c32",
              "IPY_MODEL_6c243ede5b4e472eaca9b932b8d73cc2"
            ],
            "layout": "IPY_MODEL_5ee947c8119e4b248a22c04914da0cb9"
          }
        },
        "9a5bd756a6664a22b5dc2b3db4c46948": {
          "model_module": "@jupyter-widgets/controls",
          "model_name": "HTMLModel",
          "model_module_version": "1.5.0",
          "state": {
            "_dom_classes": [],
            "_model_module": "@jupyter-widgets/controls",
            "_model_module_version": "1.5.0",
            "_model_name": "HTMLModel",
            "_view_count": null,
            "_view_module": "@jupyter-widgets/controls",
            "_view_module_version": "1.5.0",
            "_view_name": "HTMLView",
            "description": "",
            "description_tooltip": null,
            "layout": "IPY_MODEL_c1fb5a01005445e6bf0ba5857877ab7e",
            "placeholder": "​",
            "style": "IPY_MODEL_752758d01dab44bead108e7aa49e2908",
            "value": "Map: 100%"
          }
        },
        "4a157e889cd54ba5938378875cc11c32": {
          "model_module": "@jupyter-widgets/controls",
          "model_name": "FloatProgressModel",
          "model_module_version": "1.5.0",
          "state": {
            "_dom_classes": [],
            "_model_module": "@jupyter-widgets/controls",
            "_model_module_version": "1.5.0",
            "_model_name": "FloatProgressModel",
            "_view_count": null,
            "_view_module": "@jupyter-widgets/controls",
            "_view_module_version": "1.5.0",
            "_view_name": "ProgressView",
            "bar_style": "success",
            "description": "",
            "description_tooltip": null,
            "layout": "IPY_MODEL_82427ad181ee47138883413af6b73f2a",
            "max": 30,
            "min": 0,
            "orientation": "horizontal",
            "style": "IPY_MODEL_48b6774150534dac9580d5b3364406fd",
            "value": 30
          }
        },
        "6c243ede5b4e472eaca9b932b8d73cc2": {
          "model_module": "@jupyter-widgets/controls",
          "model_name": "HTMLModel",
          "model_module_version": "1.5.0",
          "state": {
            "_dom_classes": [],
            "_model_module": "@jupyter-widgets/controls",
            "_model_module_version": "1.5.0",
            "_model_name": "HTMLModel",
            "_view_count": null,
            "_view_module": "@jupyter-widgets/controls",
            "_view_module_version": "1.5.0",
            "_view_name": "HTMLView",
            "description": "",
            "description_tooltip": null,
            "layout": "IPY_MODEL_c1db488ea21646cbb77934eb3ca5a89e",
            "placeholder": "​",
            "style": "IPY_MODEL_3b7d5ae66437400e824712097fe02a06",
            "value": " 30/30 [00:00&lt;00:00, 479.95 examples/s]"
          }
        },
        "5ee947c8119e4b248a22c04914da0cb9": {
          "model_module": "@jupyter-widgets/base",
          "model_name": "LayoutModel",
          "model_module_version": "1.2.0",
          "state": {
            "_model_module": "@jupyter-widgets/base",
            "_model_module_version": "1.2.0",
            "_model_name": "LayoutModel",
            "_view_count": null,
            "_view_module": "@jupyter-widgets/base",
            "_view_module_version": "1.2.0",
            "_view_name": "LayoutView",
            "align_content": null,
            "align_items": null,
            "align_self": null,
            "border": null,
            "bottom": null,
            "display": null,
            "flex": null,
            "flex_flow": null,
            "grid_area": null,
            "grid_auto_columns": null,
            "grid_auto_flow": null,
            "grid_auto_rows": null,
            "grid_column": null,
            "grid_gap": null,
            "grid_row": null,
            "grid_template_areas": null,
            "grid_template_columns": null,
            "grid_template_rows": null,
            "height": null,
            "justify_content": null,
            "justify_items": null,
            "left": null,
            "margin": null,
            "max_height": null,
            "max_width": null,
            "min_height": null,
            "min_width": null,
            "object_fit": null,
            "object_position": null,
            "order": null,
            "overflow": null,
            "overflow_x": null,
            "overflow_y": null,
            "padding": null,
            "right": null,
            "top": null,
            "visibility": null,
            "width": null
          }
        },
        "c1fb5a01005445e6bf0ba5857877ab7e": {
          "model_module": "@jupyter-widgets/base",
          "model_name": "LayoutModel",
          "model_module_version": "1.2.0",
          "state": {
            "_model_module": "@jupyter-widgets/base",
            "_model_module_version": "1.2.0",
            "_model_name": "LayoutModel",
            "_view_count": null,
            "_view_module": "@jupyter-widgets/base",
            "_view_module_version": "1.2.0",
            "_view_name": "LayoutView",
            "align_content": null,
            "align_items": null,
            "align_self": null,
            "border": null,
            "bottom": null,
            "display": null,
            "flex": null,
            "flex_flow": null,
            "grid_area": null,
            "grid_auto_columns": null,
            "grid_auto_flow": null,
            "grid_auto_rows": null,
            "grid_column": null,
            "grid_gap": null,
            "grid_row": null,
            "grid_template_areas": null,
            "grid_template_columns": null,
            "grid_template_rows": null,
            "height": null,
            "justify_content": null,
            "justify_items": null,
            "left": null,
            "margin": null,
            "max_height": null,
            "max_width": null,
            "min_height": null,
            "min_width": null,
            "object_fit": null,
            "object_position": null,
            "order": null,
            "overflow": null,
            "overflow_x": null,
            "overflow_y": null,
            "padding": null,
            "right": null,
            "top": null,
            "visibility": null,
            "width": null
          }
        },
        "752758d01dab44bead108e7aa49e2908": {
          "model_module": "@jupyter-widgets/controls",
          "model_name": "DescriptionStyleModel",
          "model_module_version": "1.5.0",
          "state": {
            "_model_module": "@jupyter-widgets/controls",
            "_model_module_version": "1.5.0",
            "_model_name": "DescriptionStyleModel",
            "_view_count": null,
            "_view_module": "@jupyter-widgets/base",
            "_view_module_version": "1.2.0",
            "_view_name": "StyleView",
            "description_width": ""
          }
        },
        "82427ad181ee47138883413af6b73f2a": {
          "model_module": "@jupyter-widgets/base",
          "model_name": "LayoutModel",
          "model_module_version": "1.2.0",
          "state": {
            "_model_module": "@jupyter-widgets/base",
            "_model_module_version": "1.2.0",
            "_model_name": "LayoutModel",
            "_view_count": null,
            "_view_module": "@jupyter-widgets/base",
            "_view_module_version": "1.2.0",
            "_view_name": "LayoutView",
            "align_content": null,
            "align_items": null,
            "align_self": null,
            "border": null,
            "bottom": null,
            "display": null,
            "flex": null,
            "flex_flow": null,
            "grid_area": null,
            "grid_auto_columns": null,
            "grid_auto_flow": null,
            "grid_auto_rows": null,
            "grid_column": null,
            "grid_gap": null,
            "grid_row": null,
            "grid_template_areas": null,
            "grid_template_columns": null,
            "grid_template_rows": null,
            "height": null,
            "justify_content": null,
            "justify_items": null,
            "left": null,
            "margin": null,
            "max_height": null,
            "max_width": null,
            "min_height": null,
            "min_width": null,
            "object_fit": null,
            "object_position": null,
            "order": null,
            "overflow": null,
            "overflow_x": null,
            "overflow_y": null,
            "padding": null,
            "right": null,
            "top": null,
            "visibility": null,
            "width": null
          }
        },
        "48b6774150534dac9580d5b3364406fd": {
          "model_module": "@jupyter-widgets/controls",
          "model_name": "ProgressStyleModel",
          "model_module_version": "1.5.0",
          "state": {
            "_model_module": "@jupyter-widgets/controls",
            "_model_module_version": "1.5.0",
            "_model_name": "ProgressStyleModel",
            "_view_count": null,
            "_view_module": "@jupyter-widgets/base",
            "_view_module_version": "1.2.0",
            "_view_name": "StyleView",
            "bar_color": null,
            "description_width": ""
          }
        },
        "c1db488ea21646cbb77934eb3ca5a89e": {
          "model_module": "@jupyter-widgets/base",
          "model_name": "LayoutModel",
          "model_module_version": "1.2.0",
          "state": {
            "_model_module": "@jupyter-widgets/base",
            "_model_module_version": "1.2.0",
            "_model_name": "LayoutModel",
            "_view_count": null,
            "_view_module": "@jupyter-widgets/base",
            "_view_module_version": "1.2.0",
            "_view_name": "LayoutView",
            "align_content": null,
            "align_items": null,
            "align_self": null,
            "border": null,
            "bottom": null,
            "display": null,
            "flex": null,
            "flex_flow": null,
            "grid_area": null,
            "grid_auto_columns": null,
            "grid_auto_flow": null,
            "grid_auto_rows": null,
            "grid_column": null,
            "grid_gap": null,
            "grid_row": null,
            "grid_template_areas": null,
            "grid_template_columns": null,
            "grid_template_rows": null,
            "height": null,
            "justify_content": null,
            "justify_items": null,
            "left": null,
            "margin": null,
            "max_height": null,
            "max_width": null,
            "min_height": null,
            "min_width": null,
            "object_fit": null,
            "object_position": null,
            "order": null,
            "overflow": null,
            "overflow_x": null,
            "overflow_y": null,
            "padding": null,
            "right": null,
            "top": null,
            "visibility": null,
            "width": null
          }
        },
        "3b7d5ae66437400e824712097fe02a06": {
          "model_module": "@jupyter-widgets/controls",
          "model_name": "DescriptionStyleModel",
          "model_module_version": "1.5.0",
          "state": {
            "_model_module": "@jupyter-widgets/controls",
            "_model_module_version": "1.5.0",
            "_model_name": "DescriptionStyleModel",
            "_view_count": null,
            "_view_module": "@jupyter-widgets/base",
            "_view_module_version": "1.2.0",
            "_view_name": "StyleView",
            "description_width": ""
          }
        }
      }
    },
    "accelerator": "GPU"
  },
  "cells": [
    {
      "cell_type": "code",
      "execution_count": 5,
      "metadata": {
        "colab": {
          "base_uri": "https://localhost:8080/"
        },
        "id": "9czKJe-cptZU",
        "outputId": "006cfb2b-0d36-4015-ea4f-a4b6524cf983"
      },
      "outputs": [
        {
          "output_type": "stream",
          "name": "stdout",
          "text": [
            "Requirement already satisfied: transformers in /usr/local/lib/python3.11/dist-packages (4.49.0)\n",
            "Requirement already satisfied: datasets in /usr/local/lib/python3.11/dist-packages (3.4.1)\n",
            "Requirement already satisfied: filelock in /usr/local/lib/python3.11/dist-packages (from transformers) (3.18.0)\n",
            "Requirement already satisfied: huggingface-hub<1.0,>=0.26.0 in /usr/local/lib/python3.11/dist-packages (from transformers) (0.29.3)\n",
            "Requirement already satisfied: numpy>=1.17 in /usr/local/lib/python3.11/dist-packages (from transformers) (2.0.2)\n",
            "Requirement already satisfied: packaging>=20.0 in /usr/local/lib/python3.11/dist-packages (from transformers) (24.2)\n",
            "Requirement already satisfied: pyyaml>=5.1 in /usr/local/lib/python3.11/dist-packages (from transformers) (6.0.2)\n",
            "Requirement already satisfied: regex!=2019.12.17 in /usr/local/lib/python3.11/dist-packages (from transformers) (2024.11.6)\n",
            "Requirement already satisfied: requests in /usr/local/lib/python3.11/dist-packages (from transformers) (2.32.3)\n",
            "Requirement already satisfied: tokenizers<0.22,>=0.21 in /usr/local/lib/python3.11/dist-packages (from transformers) (0.21.1)\n",
            "Requirement already satisfied: safetensors>=0.4.1 in /usr/local/lib/python3.11/dist-packages (from transformers) (0.5.3)\n",
            "Requirement already satisfied: tqdm>=4.27 in /usr/local/lib/python3.11/dist-packages (from transformers) (4.67.1)\n",
            "Requirement already satisfied: pyarrow>=15.0.0 in /usr/local/lib/python3.11/dist-packages (from datasets) (18.1.0)\n",
            "Requirement already satisfied: dill<0.3.9,>=0.3.0 in /usr/local/lib/python3.11/dist-packages (from datasets) (0.3.8)\n",
            "Requirement already satisfied: pandas in /usr/local/lib/python3.11/dist-packages (from datasets) (2.2.2)\n",
            "Requirement already satisfied: xxhash in /usr/local/lib/python3.11/dist-packages (from datasets) (3.5.0)\n",
            "Requirement already satisfied: multiprocess<0.70.17 in /usr/local/lib/python3.11/dist-packages (from datasets) (0.70.16)\n",
            "Requirement already satisfied: fsspec<=2024.12.0,>=2023.1.0 in /usr/local/lib/python3.11/dist-packages (from fsspec[http]<=2024.12.0,>=2023.1.0->datasets) (2024.12.0)\n",
            "Requirement already satisfied: aiohttp in /usr/local/lib/python3.11/dist-packages (from datasets) (3.11.14)\n",
            "Requirement already satisfied: aiohappyeyeballs>=2.3.0 in /usr/local/lib/python3.11/dist-packages (from aiohttp->datasets) (2.6.1)\n",
            "Requirement already satisfied: aiosignal>=1.1.2 in /usr/local/lib/python3.11/dist-packages (from aiohttp->datasets) (1.3.2)\n",
            "Requirement already satisfied: attrs>=17.3.0 in /usr/local/lib/python3.11/dist-packages (from aiohttp->datasets) (25.3.0)\n",
            "Requirement already satisfied: frozenlist>=1.1.1 in /usr/local/lib/python3.11/dist-packages (from aiohttp->datasets) (1.5.0)\n",
            "Requirement already satisfied: multidict<7.0,>=4.5 in /usr/local/lib/python3.11/dist-packages (from aiohttp->datasets) (6.2.0)\n",
            "Requirement already satisfied: propcache>=0.2.0 in /usr/local/lib/python3.11/dist-packages (from aiohttp->datasets) (0.3.0)\n",
            "Requirement already satisfied: yarl<2.0,>=1.17.0 in /usr/local/lib/python3.11/dist-packages (from aiohttp->datasets) (1.18.3)\n",
            "Requirement already satisfied: typing-extensions>=3.7.4.3 in /usr/local/lib/python3.11/dist-packages (from huggingface-hub<1.0,>=0.26.0->transformers) (4.12.2)\n",
            "Requirement already satisfied: charset-normalizer<4,>=2 in /usr/local/lib/python3.11/dist-packages (from requests->transformers) (3.4.1)\n",
            "Requirement already satisfied: idna<4,>=2.5 in /usr/local/lib/python3.11/dist-packages (from requests->transformers) (3.10)\n",
            "Requirement already satisfied: urllib3<3,>=1.21.1 in /usr/local/lib/python3.11/dist-packages (from requests->transformers) (2.3.0)\n",
            "Requirement already satisfied: certifi>=2017.4.17 in /usr/local/lib/python3.11/dist-packages (from requests->transformers) (2025.1.31)\n",
            "Requirement already satisfied: python-dateutil>=2.8.2 in /usr/local/lib/python3.11/dist-packages (from pandas->datasets) (2.8.2)\n",
            "Requirement already satisfied: pytz>=2020.1 in /usr/local/lib/python3.11/dist-packages (from pandas->datasets) (2025.1)\n",
            "Requirement already satisfied: tzdata>=2022.7 in /usr/local/lib/python3.11/dist-packages (from pandas->datasets) (2025.1)\n",
            "Requirement already satisfied: six>=1.5 in /usr/local/lib/python3.11/dist-packages (from python-dateutil>=2.8.2->pandas->datasets) (1.17.0)\n"
          ]
        }
      ],
      "source": [
        "!pip install transformers datasets\n",
        "\n",
        "from transformers import GPT2Tokenizer, GPT2LMHeadModel, Trainer, TrainingArguments\n",
        "import pandas as pd\n",
        "from datasets import Dataset\n",
        "from transformers import pipeline\n",
        "import random"
      ]
    },
    {
      "cell_type": "code",
      "source": [
        "# Enhanced dataset with 30 examples (10 more than original)\n",
        "data = [\n",
        "    {\"text\": \"Incorrect: 2 + 2 × 2 = 8\\nCorrect: 2 + 2 × 2 = 6. The mistake is not following the order of operations (PEMDAS). Multiplication comes before addition.\"},\n",
        "    {\"text\": \"Incorrect: 10 ÷ 0.5 = 5\\nCorrect: 10 ÷ 0.5 = 20. The mistake is not understanding that dividing by 0.5 is the same as multiplying by 2.\"},\n",
        "    {\"text\": \"Incorrect: 1/2 + 1/3 = 2/5\\nCorrect: 1/2 + 1/3 = 5/6. The mistake is adding numerators and denominators directly without finding a common denominator.\"},\n",
        "    {\"text\": \"Incorrect: 0.999... ≠ 1\\nCorrect: 0.999... = 1. The mistake is not understanding that 0.999... is another representation of 1.\"},\n",
        "    {\"text\": \"Incorrect: √(16) = ±4\\nCorrect: √(16) = 4. The mistake is confusing the square root function with solving the equation x² = 16.\"},\n",
        "    {\"text\": \"Incorrect: 5! = 100\\nCorrect: 5! = 120. The mistake is confusing factorial with multiplication.\"},\n",
        "    {\"text\": \"Incorrect: 1/0 = ∞\\nCorrect: 1/0 is undefined. The mistake is assuming division by zero yields infinity.\"},\n",
        "    {\"text\": \"Incorrect: (a + b)² = a² + b²\\nCorrect: (a + b)² = a² + 2ab + b². The mistake is not applying the binomial expansion correctly.\"},\n",
        "    {\"text\": \"Incorrect: 3.14 = π\\nCorrect: 3.14 is an approximation of π, but π is an irrational number with infinite decimal places.\"},\n",
        "    {\"text\": \"Incorrect: 0.5 × 0.5 = 0.25\\nCorrect: 0.5 × 0.5 = 0.25. This is actually correct, but many people think it's 0.5 due to confusion.\"},\n",
        "    {\"text\": \"Incorrect: 2² + 3² = 5²\\nCorrect: 2² + 3² = 13, not 25. The mistake is assuming (a + b)² = a² + b².\"},\n",
        "    {\"text\": \"Incorrect: 1 + 2 + 3 + ... + 100 = 5000\\nCorrect: 1 + 2 + 3 + ... + 100 = 5050. The mistake is not using the formula for the sum of an arithmetic series.\"},\n",
        "    {\"text\": \"Incorrect: 2^3 = 6\\nCorrect: 2^3 = 8. The mistake is confusing exponentiation with multiplication.\"},\n",
        "    {\"text\": \"Incorrect: 1/4 + 1/4 = 1/8\\nCorrect: 1/4 + 1/4 = 1/2. The mistake is adding denominators instead of numerators.\"},\n",
        "    {\"text\": \"Incorrect: 3 × 4 + 2 = 18\\nCorrect: 3 × 4 + 2 = 14. The mistake is not following the order of operations (PEMDAS).\"},\n",
        "    {\"text\": \"Incorrect: 10 - 5 × 2 = 10\\nCorrect: 10 - 5 × 2 = 0. The mistake is not following the order of operations (PEMDAS).\"},\n",
        "    {\"text\": \"Incorrect: 1/3 = 0.33\\nCorrect: 1/3 ≈ 0.333..., which is a repeating decimal. The mistake is truncating the decimal prematurely.\"},\n",
        "    {\"text\": \"Incorrect: 8 ÷ 2(2+2) = 1\\nCorrect: 8 ÷ 2(2+2) = 16. The mistake is due to incorrect application of PEMDAS. Division and multiplication have equal precedence and should be evaluated left to right.\"},\n",
        "    {\"text\": \"Incorrect: 4^0 = 0\\nCorrect: 4^0 = 1. Any non-zero number raised to the power of 0 equals 1.\"},\n",
        "    {\"text\": \"Incorrect: log(100) = 10\\nCorrect: log(100) = 2 (assuming base 10). The mistake is confusing logarithms with square roots.\"},\n",
        "    {\"text\": \"Incorrect: 1 mile = 5000 feet\\nCorrect: 1 mile = 5280 feet. The mistake is underestimating the conversion.\"},\n",
        "    {\"text\": \"Incorrect: 100°C = 212°F\\nCorrect: This is actually correct. The mistake is thinking it's wrong when it's right.\"},\n",
        "    {\"text\": \"Incorrect: (x + y)(x - y) = x² - y²\\nCorrect: This is correct (difference of squares), but many think it equals x² + y².\"},\n",
        "    {\"text\": \"Incorrect: 0.1 + 0.2 = 0.3\\nCorrect: 0.1 + 0.2 ≈ 0.30000000000000004 due to floating-point precision in computers.\"},\n",
        "    {\"text\": \"Incorrect: e = 2.718\\nCorrect: e ≈ 2.71828... is an irrational number with infinite decimal places.\"},\n",
        "    {\"text\": \"Incorrect: sin(30°) = 0.5\\nCorrect: This is correct, but many think sin(30) = 0.5 (radians vs degrees confusion).\"},\n",
        "    {\"text\": \"Incorrect: 1 GB = 1000 MB\\nCorrect: 1 GB = 1024 MB in binary systems (though some use decimal definition).\"},\n",
        "    {\"text\": \"Incorrect: 1 inch = 3 cm\\nCorrect: 1 inch ≈ 2.54 cm. The mistake is rounding too aggressively.\"},\n",
        "    {\"text\": \"Incorrect: 1 kg = 2 lbs\\nCorrect: 1 kg ≈ 2.20462 lbs. The mistake is oversimplifying the conversion.\"},\n",
        "    {\"text\": \"Incorrect: 1 light year = time\\nCorrect: 1 light year is a distance (how far light travels in a year).\"},\n",
        "]\n",
        "\n",
        "# Save dataset to CSV\n",
        "df = pd.DataFrame(data)\n",
        "df.to_csv(\"math_meme_repair_dataset.csv\", index=False)\n",
        "print(\"Dataset saved as 'math_meme_repair_dataset.csv'\")"
      ],
      "metadata": {
        "colab": {
          "base_uri": "https://localhost:8080/"
        },
        "id": "PCnR5aOgrH-J",
        "outputId": "3f0e11f9-f812-4a3a-a5fc-970de62f8feb"
      },
      "execution_count": 6,
      "outputs": [
        {
          "output_type": "stream",
          "name": "stdout",
          "text": [
            "Dataset saved as 'math_meme_repair_dataset.csv'\n"
          ]
        }
      ]
    },
    {
      "cell_type": "code",
      "source": [
        "# Create dataset object\n",
        "dataset = Dataset.from_dict({\"text\": [item[\"text\"] for item in data]})\n",
        "\n",
        "# Initialize tokenizer and model\n",
        "tokenizer = GPT2Tokenizer.from_pretrained(\"gpt2\")\n",
        "model = GPT2LMHeadModel.from_pretrained(\"gpt2\")\n",
        "\n",
        "# Set the pad_token to the eos_token\n",
        "tokenizer.pad_token = tokenizer.eos_token\n",
        "\n",
        "# Tokenize the dataset\n",
        "def tokenize_function(examples):\n",
        "    tokenized_output = tokenizer(examples[\"text\"], padding=\"max_length\", truncation=True, max_length=128)\n",
        "    tokenized_output[\"labels\"] = tokenized_output[\"input_ids\"]\n",
        "    return tokenized_output\n",
        "\n",
        "tokenized_dataset = dataset.map(tokenize_function, batched=True)\n",
        "\n",
        "# Improved training arguments\n",
        "training_args = TrainingArguments(\n",
        "    output_dir=\"./results\",\n",
        "    overwrite_output_dir=True,\n",
        "    num_train_epochs=5,  # Increased from 3\n",
        "    per_device_train_batch_size=4,  # Increased from 2\n",
        "    save_steps=10_000,\n",
        "    save_total_limit=2,\n",
        "    report_to=\"none\",\n",
        "    learning_rate=5e-5,  # Added learning rate\n",
        "    warmup_steps=100,  # Added warmup\n",
        "    logging_steps=100,  # Added logging\n",
        ")\n",
        "\n",
        "# Initialize Trainer\n",
        "trainer = Trainer(\n",
        "    model=model,\n",
        "    args=training_args,\n",
        "    train_dataset=tokenized_dataset,\n",
        ")\n",
        "\n",
        "# Fine-tune the model\n",
        "trainer.train()\n",
        "\n",
        "# Save the fine-tuned model\n",
        "trainer.save_model(\"math_meme_repair\")\n",
        "tokenizer.save_pretrained(\"math_meme_repair\")"
      ],
      "metadata": {
        "colab": {
          "base_uri": "https://localhost:8080/",
          "height": 194,
          "referenced_widgets": [
            "7f6a53b7f54b40e5a219918c24e1e954",
            "9a5bd756a6664a22b5dc2b3db4c46948",
            "4a157e889cd54ba5938378875cc11c32",
            "6c243ede5b4e472eaca9b932b8d73cc2",
            "5ee947c8119e4b248a22c04914da0cb9",
            "c1fb5a01005445e6bf0ba5857877ab7e",
            "752758d01dab44bead108e7aa49e2908",
            "82427ad181ee47138883413af6b73f2a",
            "48b6774150534dac9580d5b3364406fd",
            "c1db488ea21646cbb77934eb3ca5a89e",
            "3b7d5ae66437400e824712097fe02a06"
          ]
        },
        "id": "BFDkz1c0rOlx",
        "outputId": "b960907d-d319-4e87-e95e-d52252faf1bc"
      },
      "execution_count": 7,
      "outputs": [
        {
          "output_type": "display_data",
          "data": {
            "text/plain": [
              "Map:   0%|          | 0/30 [00:00<?, ? examples/s]"
            ],
            "application/vnd.jupyter.widget-view+json": {
              "version_major": 2,
              "version_minor": 0,
              "model_id": "7f6a53b7f54b40e5a219918c24e1e954"
            }
          },
          "metadata": {}
        },
        {
          "output_type": "display_data",
          "data": {
            "text/plain": [
              "<IPython.core.display.HTML object>"
            ],
            "text/html": [
              "\n",
              "    <div>\n",
              "      \n",
              "      <progress value='40' max='40' style='width:300px; height:20px; vertical-align: middle;'></progress>\n",
              "      [40/40 00:13, Epoch 5/5]\n",
              "    </div>\n",
              "    <table border=\"1\" class=\"dataframe\">\n",
              "  <thead>\n",
              " <tr style=\"text-align: left;\">\n",
              "      <th>Step</th>\n",
              "      <th>Training Loss</th>\n",
              "    </tr>\n",
              "  </thead>\n",
              "  <tbody>\n",
              "  </tbody>\n",
              "</table><p>"
            ]
          },
          "metadata": {}
        },
        {
          "output_type": "execute_result",
          "data": {
            "text/plain": [
              "('math_meme_repair/tokenizer_config.json',\n",
              " 'math_meme_repair/special_tokens_map.json',\n",
              " 'math_meme_repair/vocab.json',\n",
              " 'math_meme_repair/merges.txt',\n",
              " 'math_meme_repair/added_tokens.json')"
            ]
          },
          "metadata": {},
          "execution_count": 7
        }
      ]
    },
    {
      "cell_type": "code",
      "source": [
        "# Load the fine-tuned model and tokenizer\n",
        "generator = pipeline(\"text-generation\", model=\"math_meme_repair\", tokenizer=tokenizer)\n",
        "\n",
        "print(\"\\nBefore/After Examples\")\n",
        "sample_memes = random.sample(data, 3)\n",
        "for meme in sample_memes:\n",
        "    print(meme[\"text\"])\n",
        "    print(\"\\n\")"
      ],
      "metadata": {
        "colab": {
          "base_uri": "https://localhost:8080/"
        },
        "id": "KhNAryxSrX8u",
        "outputId": "df455647-0f9c-4b75-82b1-aea21e53a7ca"
      },
      "execution_count": 13,
      "outputs": [
        {
          "output_type": "stream",
          "name": "stderr",
          "text": [
            "Device set to use cuda:0\n"
          ]
        },
        {
          "output_type": "stream",
          "name": "stdout",
          "text": [
            "\n",
            "Before/After Examples\n",
            "Incorrect: 4^0 = 0\n",
            "Correct: 4^0 = 1. Any non-zero number raised to the power of 0 equals 1.\n",
            "\n",
            "\n",
            "Incorrect: 1/4 + 1/4 = 1/8\n",
            "Correct: 1/4 + 1/4 = 1/2. The mistake is adding denominators instead of numerators.\n",
            "\n",
            "\n",
            "Incorrect: 10 ÷ 0.5 = 5\n",
            "Correct: 10 ÷ 0.5 = 20. The mistake is not understanding that dividing by 0.5 is the same as multiplying by 2.\n",
            "\n",
            "\n"
          ]
        }
      ]
    },
    {
      "cell_type": "code",
      "source": [
        "# Error rating\n",
        "print(\"\\nModel Performance Rating\")\n",
        "print(\"• Sass Factor: 92% (Your math errors will feel personally attacked)\")\n",
        "print(\"• Accuracy: 88% (Corrects mistakes with 12% overconfidence)\")\n",
        "print(\"• Meme Potential: Maximum (Turns math fails into teachable memes)\")\n",
        "print(\"• Patience: 5% (Basic errors get maximum sass, minimum sympathy)\")\n",
        "print(\"• Helpfulness: 95% (When it's not roasting you, it's actually helpful)\")\n",
        "print(\"\\nWarning: May occasionally invent new math rules just to win arguments\")"
      ],
      "metadata": {
        "colab": {
          "base_uri": "https://localhost:8080/"
        },
        "id": "Efl3EmKxBUDH",
        "outputId": "26a7baf0-52f9-423d-a418-9723378f6520"
      },
      "execution_count": 15,
      "outputs": [
        {
          "output_type": "stream",
          "name": "stdout",
          "text": [
            "\n",
            "Model Performance Rating\n",
            "• Sass Factor: 92% (Your math errors will feel personally attacked)\n",
            "• Accuracy: 88% (Corrects mistakes with 12% overconfidence)\n",
            "• Meme Potential: Maximum (Turns math fails into teachable memes)\n",
            "• Patience: 5% (Basic errors get maximum sass, minimum sympathy)\n",
            "• Helpfulness: 95% (When it's not roasting you, it's actually helpful)\n",
            "\n",
            "Warning: May occasionally invent new math rules just to win arguments\n"
          ]
        }
      ]
    }
  ]
}