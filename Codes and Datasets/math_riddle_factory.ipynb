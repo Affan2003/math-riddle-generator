{
  "nbformat": 4,
  "nbformat_minor": 0,
  "metadata": {
    "colab": {
      "provenance": [],
      "gpuType": "T4"
    },
    "kernelspec": {
      "name": "python3",
      "display_name": "Python 3"
    },
    "language_info": {
      "name": "python"
    },
    "accelerator": "GPU",
    "widgets": {
      "application/vnd.jupyter.widget-state+json": {
        "7aebe0973c4f40bfa799137ba0d58317": {
          "model_module": "@jupyter-widgets/controls",
          "model_name": "HBoxModel",
          "model_module_version": "1.5.0",
          "state": {
            "_dom_classes": [],
            "_model_module": "@jupyter-widgets/controls",
            "_model_module_version": "1.5.0",
            "_model_name": "HBoxModel",
            "_view_count": null,
            "_view_module": "@jupyter-widgets/controls",
            "_view_module_version": "1.5.0",
            "_view_name": "HBoxView",
            "box_style": "",
            "children": [
              "IPY_MODEL_6b4ee3abae9147ad9ada73061d4cc0da",
              "IPY_MODEL_288818b4cecb4dc4b726a9d7e131f1a4",
              "IPY_MODEL_f906cefadb744de39e3bb830d68e6627"
            ],
            "layout": "IPY_MODEL_b81422f87d7c4ab0adaaf97fab3bdc1b"
          }
        },
        "6b4ee3abae9147ad9ada73061d4cc0da": {
          "model_module": "@jupyter-widgets/controls",
          "model_name": "HTMLModel",
          "model_module_version": "1.5.0",
          "state": {
            "_dom_classes": [],
            "_model_module": "@jupyter-widgets/controls",
            "_model_module_version": "1.5.0",
            "_model_name": "HTMLModel",
            "_view_count": null,
            "_view_module": "@jupyter-widgets/controls",
            "_view_module_version": "1.5.0",
            "_view_name": "HTMLView",
            "description": "",
            "description_tooltip": null,
            "layout": "IPY_MODEL_e7d6bf38adc34dd49bc2af8b71a17648",
            "placeholder": "​",
            "style": "IPY_MODEL_e0b09729aedc4eb38d2c2dac682221c8",
            "value": "Map: 100%"
          }
        },
        "288818b4cecb4dc4b726a9d7e131f1a4": {
          "model_module": "@jupyter-widgets/controls",
          "model_name": "FloatProgressModel",
          "model_module_version": "1.5.0",
          "state": {
            "_dom_classes": [],
            "_model_module": "@jupyter-widgets/controls",
            "_model_module_version": "1.5.0",
            "_model_name": "FloatProgressModel",
            "_view_count": null,
            "_view_module": "@jupyter-widgets/controls",
            "_view_module_version": "1.5.0",
            "_view_name": "ProgressView",
            "bar_style": "success",
            "description": "",
            "description_tooltip": null,
            "layout": "IPY_MODEL_501f8c7132114e5e85396c73f2dbe2df",
            "max": 30,
            "min": 0,
            "orientation": "horizontal",
            "style": "IPY_MODEL_af8ccb8aa8f3410fb586b36dcf7fdbec",
            "value": 30
          }
        },
        "f906cefadb744de39e3bb830d68e6627": {
          "model_module": "@jupyter-widgets/controls",
          "model_name": "HTMLModel",
          "model_module_version": "1.5.0",
          "state": {
            "_dom_classes": [],
            "_model_module": "@jupyter-widgets/controls",
            "_model_module_version": "1.5.0",
            "_model_name": "HTMLModel",
            "_view_count": null,
            "_view_module": "@jupyter-widgets/controls",
            "_view_module_version": "1.5.0",
            "_view_name": "HTMLView",
            "description": "",
            "description_tooltip": null,
            "layout": "IPY_MODEL_1c923e27c2734d1f9608fde3c81a2df2",
            "placeholder": "​",
            "style": "IPY_MODEL_d7a0b903e78142bf9a79ebe512168404",
            "value": " 30/30 [00:00&lt;00:00, 620.88 examples/s]"
          }
        },
        "b81422f87d7c4ab0adaaf97fab3bdc1b": {
          "model_module": "@jupyter-widgets/base",
          "model_name": "LayoutModel",
          "model_module_version": "1.2.0",
          "state": {
            "_model_module": "@jupyter-widgets/base",
            "_model_module_version": "1.2.0",
            "_model_name": "LayoutModel",
            "_view_count": null,
            "_view_module": "@jupyter-widgets/base",
            "_view_module_version": "1.2.0",
            "_view_name": "LayoutView",
            "align_content": null,
            "align_items": null,
            "align_self": null,
            "border": null,
            "bottom": null,
            "display": null,
            "flex": null,
            "flex_flow": null,
            "grid_area": null,
            "grid_auto_columns": null,
            "grid_auto_flow": null,
            "grid_auto_rows": null,
            "grid_column": null,
            "grid_gap": null,
            "grid_row": null,
            "grid_template_areas": null,
            "grid_template_columns": null,
            "grid_template_rows": null,
            "height": null,
            "justify_content": null,
            "justify_items": null,
            "left": null,
            "margin": null,
            "max_height": null,
            "max_width": null,
            "min_height": null,
            "min_width": null,
            "object_fit": null,
            "object_position": null,
            "order": null,
            "overflow": null,
            "overflow_x": null,
            "overflow_y": null,
            "padding": null,
            "right": null,
            "top": null,
            "visibility": null,
            "width": null
          }
        },
        "e7d6bf38adc34dd49bc2af8b71a17648": {
          "model_module": "@jupyter-widgets/base",
          "model_name": "LayoutModel",
          "model_module_version": "1.2.0",
          "state": {
            "_model_module": "@jupyter-widgets/base",
            "_model_module_version": "1.2.0",
            "_model_name": "LayoutModel",
            "_view_count": null,
            "_view_module": "@jupyter-widgets/base",
            "_view_module_version": "1.2.0",
            "_view_name": "LayoutView",
            "align_content": null,
            "align_items": null,
            "align_self": null,
            "border": null,
            "bottom": null,
            "display": null,
            "flex": null,
            "flex_flow": null,
            "grid_area": null,
            "grid_auto_columns": null,
            "grid_auto_flow": null,
            "grid_auto_rows": null,
            "grid_column": null,
            "grid_gap": null,
            "grid_row": null,
            "grid_template_areas": null,
            "grid_template_columns": null,
            "grid_template_rows": null,
            "height": null,
            "justify_content": null,
            "justify_items": null,
            "left": null,
            "margin": null,
            "max_height": null,
            "max_width": null,
            "min_height": null,
            "min_width": null,
            "object_fit": null,
            "object_position": null,
            "order": null,
            "overflow": null,
            "overflow_x": null,
            "overflow_y": null,
            "padding": null,
            "right": null,
            "top": null,
            "visibility": null,
            "width": null
          }
        },
        "e0b09729aedc4eb38d2c2dac682221c8": {
          "model_module": "@jupyter-widgets/controls",
          "model_name": "DescriptionStyleModel",
          "model_module_version": "1.5.0",
          "state": {
            "_model_module": "@jupyter-widgets/controls",
            "_model_module_version": "1.5.0",
            "_model_name": "DescriptionStyleModel",
            "_view_count": null,
            "_view_module": "@jupyter-widgets/base",
            "_view_module_version": "1.2.0",
            "_view_name": "StyleView",
            "description_width": ""
          }
        },
        "501f8c7132114e5e85396c73f2dbe2df": {
          "model_module": "@jupyter-widgets/base",
          "model_name": "LayoutModel",
          "model_module_version": "1.2.0",
          "state": {
            "_model_module": "@jupyter-widgets/base",
            "_model_module_version": "1.2.0",
            "_model_name": "LayoutModel",
            "_view_count": null,
            "_view_module": "@jupyter-widgets/base",
            "_view_module_version": "1.2.0",
            "_view_name": "LayoutView",
            "align_content": null,
            "align_items": null,
            "align_self": null,
            "border": null,
            "bottom": null,
            "display": null,
            "flex": null,
            "flex_flow": null,
            "grid_area": null,
            "grid_auto_columns": null,
            "grid_auto_flow": null,
            "grid_auto_rows": null,
            "grid_column": null,
            "grid_gap": null,
            "grid_row": null,
            "grid_template_areas": null,
            "grid_template_columns": null,
            "grid_template_rows": null,
            "height": null,
            "justify_content": null,
            "justify_items": null,
            "left": null,
            "margin": null,
            "max_height": null,
            "max_width": null,
            "min_height": null,
            "min_width": null,
            "object_fit": null,
            "object_position": null,
            "order": null,
            "overflow": null,
            "overflow_x": null,
            "overflow_y": null,
            "padding": null,
            "right": null,
            "top": null,
            "visibility": null,
            "width": null
          }
        },
        "af8ccb8aa8f3410fb586b36dcf7fdbec": {
          "model_module": "@jupyter-widgets/controls",
          "model_name": "ProgressStyleModel",
          "model_module_version": "1.5.0",
          "state": {
            "_model_module": "@jupyter-widgets/controls",
            "_model_module_version": "1.5.0",
            "_model_name": "ProgressStyleModel",
            "_view_count": null,
            "_view_module": "@jupyter-widgets/base",
            "_view_module_version": "1.2.0",
            "_view_name": "StyleView",
            "bar_color": null,
            "description_width": ""
          }
        },
        "1c923e27c2734d1f9608fde3c81a2df2": {
          "model_module": "@jupyter-widgets/base",
          "model_name": "LayoutModel",
          "model_module_version": "1.2.0",
          "state": {
            "_model_module": "@jupyter-widgets/base",
            "_model_module_version": "1.2.0",
            "_model_name": "LayoutModel",
            "_view_count": null,
            "_view_module": "@jupyter-widgets/base",
            "_view_module_version": "1.2.0",
            "_view_name": "LayoutView",
            "align_content": null,
            "align_items": null,
            "align_self": null,
            "border": null,
            "bottom": null,
            "display": null,
            "flex": null,
            "flex_flow": null,
            "grid_area": null,
            "grid_auto_columns": null,
            "grid_auto_flow": null,
            "grid_auto_rows": null,
            "grid_column": null,
            "grid_gap": null,
            "grid_row": null,
            "grid_template_areas": null,
            "grid_template_columns": null,
            "grid_template_rows": null,
            "height": null,
            "justify_content": null,
            "justify_items": null,
            "left": null,
            "margin": null,
            "max_height": null,
            "max_width": null,
            "min_height": null,
            "min_width": null,
            "object_fit": null,
            "object_position": null,
            "order": null,
            "overflow": null,
            "overflow_x": null,
            "overflow_y": null,
            "padding": null,
            "right": null,
            "top": null,
            "visibility": null,
            "width": null
          }
        },
        "d7a0b903e78142bf9a79ebe512168404": {
          "model_module": "@jupyter-widgets/controls",
          "model_name": "DescriptionStyleModel",
          "model_module_version": "1.5.0",
          "state": {
            "_model_module": "@jupyter-widgets/controls",
            "_model_module_version": "1.5.0",
            "_model_name": "DescriptionStyleModel",
            "_view_count": null,
            "_view_module": "@jupyter-widgets/base",
            "_view_module_version": "1.2.0",
            "_view_name": "StyleView",
            "description_width": ""
          }
        }
      }
    }
  },
  "cells": [
    {
      "cell_type": "code",
      "source": [
        "# Install required libraries\n",
        "!pip install transformers datasets\n",
        "\n",
        "# Import libraries\n",
        "from transformers import GPT2Tokenizer, GPT2LMHeadModel, Trainer, TrainingArguments\n",
        "from datasets import Dataset\n",
        "\n",
        "\n",
        "import pandas as pd"
      ],
      "metadata": {
        "colab": {
          "base_uri": "https://localhost:8080/"
        },
        "id": "ESutQmf-mtK_",
        "outputId": "5c803ce9-5a5e-4ee6-8ff2-92d35ddf6054"
      },
      "execution_count": 4,
      "outputs": [
        {
          "output_type": "stream",
          "name": "stdout",
          "text": [
            "Requirement already satisfied: transformers in /usr/local/lib/python3.11/dist-packages (4.48.3)\n",
            "Requirement already satisfied: datasets in /usr/local/lib/python3.11/dist-packages (3.4.0)\n",
            "Requirement already satisfied: filelock in /usr/local/lib/python3.11/dist-packages (from transformers) (3.17.0)\n",
            "Requirement already satisfied: huggingface-hub<1.0,>=0.24.0 in /usr/local/lib/python3.11/dist-packages (from transformers) (0.28.1)\n",
            "Requirement already satisfied: numpy>=1.17 in /usr/local/lib/python3.11/dist-packages (from transformers) (1.26.4)\n",
            "Requirement already satisfied: packaging>=20.0 in /usr/local/lib/python3.11/dist-packages (from transformers) (24.2)\n",
            "Requirement already satisfied: pyyaml>=5.1 in /usr/local/lib/python3.11/dist-packages (from transformers) (6.0.2)\n",
            "Requirement already satisfied: regex!=2019.12.17 in /usr/local/lib/python3.11/dist-packages (from transformers) (2024.11.6)\n",
            "Requirement already satisfied: requests in /usr/local/lib/python3.11/dist-packages (from transformers) (2.32.3)\n",
            "Requirement already satisfied: tokenizers<0.22,>=0.21 in /usr/local/lib/python3.11/dist-packages (from transformers) (0.21.0)\n",
            "Requirement already satisfied: safetensors>=0.4.1 in /usr/local/lib/python3.11/dist-packages (from transformers) (0.5.3)\n",
            "Requirement already satisfied: tqdm>=4.27 in /usr/local/lib/python3.11/dist-packages (from transformers) (4.67.1)\n",
            "Requirement already satisfied: pyarrow>=15.0.0 in /usr/local/lib/python3.11/dist-packages (from datasets) (18.1.0)\n",
            "Requirement already satisfied: dill<0.3.9,>=0.3.0 in /usr/local/lib/python3.11/dist-packages (from datasets) (0.3.8)\n",
            "Requirement already satisfied: pandas in /usr/local/lib/python3.11/dist-packages (from datasets) (2.2.2)\n",
            "Requirement already satisfied: xxhash in /usr/local/lib/python3.11/dist-packages (from datasets) (3.5.0)\n",
            "Requirement already satisfied: multiprocess<0.70.17 in /usr/local/lib/python3.11/dist-packages (from datasets) (0.70.16)\n",
            "Requirement already satisfied: fsspec<=2024.12.0,>=2023.1.0 in /usr/local/lib/python3.11/dist-packages (from fsspec[http]<=2024.12.0,>=2023.1.0->datasets) (2024.10.0)\n",
            "Requirement already satisfied: aiohttp in /usr/local/lib/python3.11/dist-packages (from datasets) (3.11.13)\n",
            "Requirement already satisfied: aiohappyeyeballs>=2.3.0 in /usr/local/lib/python3.11/dist-packages (from aiohttp->datasets) (2.6.1)\n",
            "Requirement already satisfied: aiosignal>=1.1.2 in /usr/local/lib/python3.11/dist-packages (from aiohttp->datasets) (1.3.2)\n",
            "Requirement already satisfied: attrs>=17.3.0 in /usr/local/lib/python3.11/dist-packages (from aiohttp->datasets) (25.2.0)\n",
            "Requirement already satisfied: frozenlist>=1.1.1 in /usr/local/lib/python3.11/dist-packages (from aiohttp->datasets) (1.5.0)\n",
            "Requirement already satisfied: multidict<7.0,>=4.5 in /usr/local/lib/python3.11/dist-packages (from aiohttp->datasets) (6.1.0)\n",
            "Requirement already satisfied: propcache>=0.2.0 in /usr/local/lib/python3.11/dist-packages (from aiohttp->datasets) (0.3.0)\n",
            "Requirement already satisfied: yarl<2.0,>=1.17.0 in /usr/local/lib/python3.11/dist-packages (from aiohttp->datasets) (1.18.3)\n",
            "Requirement already satisfied: typing-extensions>=3.7.4.3 in /usr/local/lib/python3.11/dist-packages (from huggingface-hub<1.0,>=0.24.0->transformers) (4.12.2)\n",
            "Requirement already satisfied: charset-normalizer<4,>=2 in /usr/local/lib/python3.11/dist-packages (from requests->transformers) (3.4.1)\n",
            "Requirement already satisfied: idna<4,>=2.5 in /usr/local/lib/python3.11/dist-packages (from requests->transformers) (3.10)\n",
            "Requirement already satisfied: urllib3<3,>=1.21.1 in /usr/local/lib/python3.11/dist-packages (from requests->transformers) (2.3.0)\n",
            "Requirement already satisfied: certifi>=2017.4.17 in /usr/local/lib/python3.11/dist-packages (from requests->transformers) (2025.1.31)\n",
            "Requirement already satisfied: python-dateutil>=2.8.2 in /usr/local/lib/python3.11/dist-packages (from pandas->datasets) (2.8.2)\n",
            "Requirement already satisfied: pytz>=2020.1 in /usr/local/lib/python3.11/dist-packages (from pandas->datasets) (2025.1)\n",
            "Requirement already satisfied: tzdata>=2022.7 in /usr/local/lib/python3.11/dist-packages (from pandas->datasets) (2025.1)\n",
            "Requirement already satisfied: six>=1.5 in /usr/local/lib/python3.11/dist-packages (from python-dateutil>=2.8.2->pandas->datasets) (1.17.0)\n"
          ]
        }
      ]
    },
    {
      "cell_type": "code",
      "source": [
        "\n",
        "# Prepare the dataset\n",
        "data = [\n",
        "    {\"text\": \"Riddle: What number becomes zero when you subtract 15 from half of it? Solution: 30\"},\n",
        "    {\"text\": \"Riddle: I am an odd number. Take away a letter and I become even. What number am I? Solution: Seven\"},\n",
        "    {\"text\": \"Riddle: If you multiply me by any other number, the answer will always be the same. What number am I? Solution: Zero\"},\n",
        "    {\"text\": \"Riddle: What three positive numbers give the same result when multiplied and added together? Solution: 1, 2, 3\"},\n",
        "    {\"text\": \"Riddle: I am a number. If you add 5 to me and then multiply by 3, the result is 36. What number am I? Solution: 7\"},\n",
        "    {\"text\": \"Riddle: What is the smallest whole number that is equal to seven times the sum of its digits? Solution: 21\"},\n",
        "    {\"text\": \"Riddle: If you divide 30 by half and add 10, what is the result? Solution: 70\"},\n",
        "    {\"text\": \"Riddle: What number is twice the sum of its digits? Solution: 18\"},\n",
        "    {\"text\": \"Riddle: I am a number. If you double me and subtract 8, you get 12. What number am I? Solution: 10\"},\n",
        "    {\"text\": \"Riddle: What is the next number in the sequence: 2, 4, 8, 16, ___? Solution: 32\"},\n",
        "    {\"text\": \"Riddle: What number is the same as its double? Solution: 0\"},\n",
        "    {\"text\": \"Riddle: I am a number. If you add 10 to me, I become 20. What number am I? Solution: 10\"},\n",
        "    {\"text\": \"Riddle: What is the only even prime number? Solution: 2\"},\n",
        "    {\"text\": \"Riddle: I am a number. If you square me, I become 16. What number am I? Solution: 4\"},\n",
        "    {\"text\": \"Riddle: What is the smallest number that is divisible by both 6 and 8? Solution: 24\"},\n",
        "    {\"text\": \"Riddle: I am a number. If you add 7 to me, I become 21. What number am I? Solution: 14\"},\n",
        "    {\"text\": \"Riddle: What is the next number in the sequence: 1, 1, 2, 3, 5, 8, ___? Solution: 13\"},\n",
        "    {\"text\": \"Riddle: I am a number. If you subtract 5 from me, I become 10. What number am I? Solution: 15\"},\n",
        "    {\"text\": \"Riddle: What is the smallest number that is a multiple of both 3 and 5? Solution: 15\"},\n",
        "    {\"text\": \"Riddle: I am a number. If you multiply me by 4, I become 20. What number am I? Solution: 5\"},\n",
        "    {\"text\": \"Riddle: What is the next number in the sequence: 3, 6, 9, 12, ___? Solution: 15\"},\n",
        "    {\"text\": \"Riddle: I am a number. If you add 12 to me, I become 24. What number am I? Solution: 12\"},\n",
        "    {\"text\": \"Riddle: What is the smallest number that is divisible by both 4 and 7? Solution: 28\"},\n",
        "    {\"text\": \"Riddle: I am a number. If you subtract 8 from me, I become 12. What number am I? Solution: 20\"},\n",
        "    {\"text\": \"Riddle: What is the next number in the sequence: 10, 20, 30, 40, ___? Solution: 50\"},\n",
        "    {\"text\": \"Riddle: I am a number. If you multiply me by 5, I become 25. What number am I? Solution: 5\"},\n",
        "    {\"text\": \"Riddle: What is the smallest number that is divisible by both 9 and 12? Solution: 36\"},\n",
        "    {\"text\": \"Riddle: I am a number. If you add 15 to me, I become 30. What number am I? Solution: 15\"},\n",
        "    {\"text\": \"Riddle: What is the next number in the sequence: 5, 10, 20, 40, ___? Solution: 80\"},\n",
        "    {\"text\": \"Riddle: I am a number. If you subtract 10 from me, I become 5. What number am I? Solution: 15\"},\n",
        "]\n",
        "\n",
        "# Convert to Hugging Face Dataset\n",
        "dataset = Dataset.from_dict({\"text\": [item[\"text\"] for item in data]})\n",
        "\n",
        "df = pd.DataFrame(data)\n",
        "\n",
        "df.to_csv(\"math_riddles_dataset.csv\", index=False)\n",
        "\n",
        "print(\"Dataset saved as 'math_riddles_dataset.csv'\")"
      ],
      "metadata": {
        "colab": {
          "base_uri": "https://localhost:8080/"
        },
        "id": "EzGiRkwvmyAT",
        "outputId": "3356c198-49d0-4610-cdec-935da4c93356"
      },
      "execution_count": 5,
      "outputs": [
        {
          "output_type": "stream",
          "name": "stdout",
          "text": [
            "Dataset saved as 'math_riddles_dataset.csv'\n"
          ]
        }
      ]
    },
    {
      "cell_type": "code",
      "execution_count": 13,
      "metadata": {
        "colab": {
          "base_uri": "https://localhost:8080/",
          "height": 211,
          "referenced_widgets": [
            "7aebe0973c4f40bfa799137ba0d58317",
            "6b4ee3abae9147ad9ada73061d4cc0da",
            "288818b4cecb4dc4b726a9d7e131f1a4",
            "f906cefadb744de39e3bb830d68e6627",
            "b81422f87d7c4ab0adaaf97fab3bdc1b",
            "e7d6bf38adc34dd49bc2af8b71a17648",
            "e0b09729aedc4eb38d2c2dac682221c8",
            "501f8c7132114e5e85396c73f2dbe2df",
            "af8ccb8aa8f3410fb586b36dcf7fdbec",
            "1c923e27c2734d1f9608fde3c81a2df2",
            "d7a0b903e78142bf9a79ebe512168404"
          ]
        },
        "id": "tG5Mh0H3mJTx",
        "outputId": "75560e2f-dcf2-4cd5-9fb7-fa2a4192e81b"
      },
      "outputs": [
        {
          "output_type": "display_data",
          "data": {
            "text/plain": [
              "Map:   0%|          | 0/30 [00:00<?, ? examples/s]"
            ],
            "application/vnd.jupyter.widget-view+json": {
              "version_major": 2,
              "version_minor": 0,
              "model_id": "7aebe0973c4f40bfa799137ba0d58317"
            }
          },
          "metadata": {}
        },
        {
          "output_type": "stream",
          "name": "stderr",
          "text": [
            "`loss_type=None` was set in the config but it is unrecognised.Using the default loss: `ForCausalLMLoss`.\n"
          ]
        },
        {
          "output_type": "display_data",
          "data": {
            "text/plain": [
              "<IPython.core.display.HTML object>"
            ],
            "text/html": [
              "\n",
              "    <div>\n",
              "      \n",
              "      <progress value='45' max='45' style='width:300px; height:20px; vertical-align: middle;'></progress>\n",
              "      [45/45 00:15, Epoch 3/3]\n",
              "    </div>\n",
              "    <table border=\"1\" class=\"dataframe\">\n",
              "  <thead>\n",
              " <tr style=\"text-align: left;\">\n",
              "      <th>Step</th>\n",
              "      <th>Training Loss</th>\n",
              "    </tr>\n",
              "  </thead>\n",
              "  <tbody>\n",
              "  </tbody>\n",
              "</table><p>"
            ]
          },
          "metadata": {}
        },
        {
          "output_type": "execute_result",
          "data": {
            "text/plain": [
              "('math_riddle_generator/tokenizer_config.json',\n",
              " 'math_riddle_generator/special_tokens_map.json',\n",
              " 'math_riddle_generator/vocab.json',\n",
              " 'math_riddle_generator/merges.txt',\n",
              " 'math_riddle_generator/added_tokens.json')"
            ]
          },
          "metadata": {},
          "execution_count": 13
        }
      ],
      "source": [
        "# Load GPT-2 tokenizer and model\n",
        "tokenizer = GPT2Tokenizer.from_pretrained(\"gpt2\")\n",
        "model = GPT2LMHeadModel.from_pretrained(\"gpt2\")\n",
        "\n",
        "# Set the pad_token to the eos_token\n",
        "tokenizer.pad_token = tokenizer.eos_token\n",
        "\n",
        "# Tokenize the dataset\n",
        "def tokenize_function(examples):\n",
        "    # Tokenize the input text\n",
        "    tokenized_output = tokenizer(examples[\"text\"], padding=\"max_length\", truncation=True, max_length=64)\n",
        "    # Add labels for the model to compute loss\n",
        "    tokenized_output[\"labels\"] = tokenized_output[\"input_ids\"]\n",
        "    return tokenized_output\n",
        "\n",
        "tokenized_dataset = dataset.map(tokenize_function, batched=True)\n",
        "\n",
        "# Set up training arguments\n",
        "training_args = TrainingArguments(\n",
        "    output_dir=\"./results\",\n",
        "    overwrite_output_dir=True,\n",
        "    num_train_epochs=3,\n",
        "    per_device_train_batch_size=2,\n",
        "    save_steps=10_000,\n",
        "    save_total_limit=2,\n",
        "    report_to=\"none\",  # Disable wandb logging\n",
        ")\n",
        "\n",
        "# Initialize Trainer\n",
        "trainer = Trainer(\n",
        "    model=model,\n",
        "    args=training_args,\n",
        "    train_dataset=tokenized_dataset,\n",
        ")\n",
        "\n",
        "# Fine-tune the model\n",
        "trainer.train()\n",
        "\n",
        "# Save the fine-tuned model\n",
        "trainer.save_model(\"math_riddle_generator\")\n",
        "tokenizer.save_pretrained(\"math_riddle_generator\")"
      ]
    },
    {
      "cell_type": "code",
      "source": [
        "# Load the fine-tuned model and tokenizer\n",
        "from transformers import pipeline\n",
        "\n",
        "generator = pipeline(\"text-generation\", model=\"math_riddle_generator\", tokenizer=tokenizer)\n",
        "\n",
        "# Generate 5 riddles\n",
        "for _ in range(5):\n",
        "    output = generator(\"Riddle:\", max_length=50, num_return_sequences=1)\n",
        "    print(output[0][\"generated_text\"])\n",
        "    print(\"---\")"
      ],
      "metadata": {
        "colab": {
          "base_uri": "https://localhost:8080/"
        },
        "id": "IL6cDN8qmNB0",
        "outputId": "0f49e400-a075-4669-a32e-5e7e7a4d29d3"
      },
      "execution_count": 14,
      "outputs": [
        {
          "output_type": "stream",
          "name": "stderr",
          "text": [
            "Device set to use cuda:0\n",
            "Truncation was not explicitly activated but `max_length` is provided a specific value, please use `truncation=True` to explicitly truncate examples to max length. Defaulting to 'longest_first' truncation strategy. If you encode pairs of sequences (GLUE-style) with the tokenizer you can select this strategy more precisely by providing a specific strategy to `truncation`.\n"
          ]
        },
        {
          "output_type": "stream",
          "name": "stdout",
          "text": [
            "Riddle: I am a number. What number am I? Solution: 24\n",
            "---\n",
            "Riddle: What is the smallest integer that is divisible by 2? Solution: 4\n",
            "---\n",
            "Riddle: What is the smallest number and a positive integer? Solution: 10\n",
            "---\n",
            "Riddle: We can say that three people have the same name. If one person's first name is \"John, the other two are Patrick and me.\" What number do you multiply by three? Solution: 8\n",
            "---\n",
            "Riddle: If a person is given a number, the number is equal to that number, while half of that number is in addition to that number. If they add 8 to the number, their result is 20. What number am I? Solution\n",
            "---\n"
          ]
        }
      ]
    },
    {
      "cell_type": "markdown",
      "source": [
        "**From the above generated 5 examples, riddle 2 makes sense**"
      ],
      "metadata": {
        "id": "vA5qoao-wl_v"
      }
    },
    {
      "cell_type": "code",
      "source": [
        "generator = pipeline(\"text-generation\", model=\"math_riddle_generator\", tokenizer=tokenizer)\n",
        "\n",
        "# Generate 5 riddles\n",
        "for _ in range(5):\n",
        "    output = generator(\"Riddle:\", max_length=50, num_return_sequences=1)\n",
        "    print(output[0][\"generated_text\"])\n",
        "    print(\"---\")"
      ],
      "metadata": {
        "colab": {
          "base_uri": "https://localhost:8080/"
        },
        "id": "oanGzyxZnPQT",
        "outputId": "86b7ad34-103e-4f9e-a28c-e679234af7ae"
      },
      "execution_count": 21,
      "outputs": [
        {
          "output_type": "stream",
          "name": "stderr",
          "text": [
            "Device set to use cuda:0\n"
          ]
        },
        {
          "output_type": "stream",
          "name": "stdout",
          "text": [
            "Riddle: What is the smallest number that will equal one integer. Solution: 21\n",
            "---\n",
            "Riddle: Do people in the UK and in the north of the United States have two different numbers and are the same length? Solution: 5\n",
            "---\n",
            "Riddle: What is the smallest number that is divisible by 2 times its product? Solution: 7\n",
            "---\n",
            "Riddle: What is the most recent number from all the digits in the sequence: 4, 8, 16, ___? Solution: 16\n",
            "---\n",
            "Riddle: What is the sum of all my free, uni-collected digits? Solution: 40\n",
            "---\n"
          ]
        }
      ]
    },
    {
      "cell_type": "markdown",
      "source": [
        "**From the above generated 5 examples, riddle 4 makes sense**"
      ],
      "metadata": {
        "id": "q6XiaT7Qz_pe"
      }
    }
  ]
}